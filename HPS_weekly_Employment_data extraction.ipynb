{
 "cells": [
  {
   "cell_type": "code",
   "execution_count": 1,
   "id": "valuable-tennis",
   "metadata": {},
   "outputs": [],
   "source": [
    "import os\n",
    "from netrc import netrc\n",
    "from subprocess import Popen\n",
    "from getpass import getpass\n",
    "import urllib\n",
    "import urllib3\n",
    "import requests\n",
    "from bs4 import BeautifulSoup\n",
    "urllib3.disable_warnings()"
   ]
  },
  {
   "cell_type": "code",
   "execution_count": 2,
   "id": "least-grill",
   "metadata": {},
   "outputs": [],
   "source": [
    "def extracturl(url):\n",
    "    # Retreive links in the URL path\n",
    "    urlpath = urllib.request.urlopen(url)\n",
    "    html_doc = urlpath.read().decode('utf-8')\n",
    "    \n",
    "    # BeautifulSoup object\n",
    "    soup = BeautifulSoup(html_doc, 'html.parser')\n",
    "    \n",
    "    # Make a list of hyerlinks\n",
    "    links = []\n",
    "    for link in soup.find_all('a'):\n",
    "        links.append(link.get('href'))\n",
    "    a=[]\n",
    "    for i in links:\n",
    "        if i != None :\n",
    "            a.append(i)\n",
    "    # Remove the parent link        \n",
    "    a.pop(0)     \n",
    "    return a"
   ]
  },
  {
   "cell_type": "code",
   "execution_count": 13,
   "id": "advanced-probe",
   "metadata": {},
   "outputs": [
    {
     "name": "stdout",
     "output_type": "stream",
     "text": [
      "file exists\n",
      "Directory 'Employment' created\n"
     ]
    },
    {
     "data": {
      "text/plain": [
       "'C:\\\\Users\\\\ck24\\\\ACE_592\\\\covid-19-data\\\\foodsecurity_census\\\\HPS_data\\\\Employment'"
      ]
     },
     "execution_count": 13,
     "metadata": {},
     "output_type": "execute_result"
    }
   ],
   "source": [
    "#set saveDir\n",
    "import os\n",
    "  \n",
    "# Directory\n",
    "directory = \"Employment\"\n",
    "\n",
    "# Parent Directory path\n",
    "parent_dir = os.getcwd()+r'\\foodsecurity_census\\HPS_data'\n",
    "  \n",
    "# Path\n",
    "path = os.path.join(parent_dir, directory)\n",
    "\n",
    "if os.path.exists(path.strip()):\n",
    "        print(\"file exists\")\n",
    "else:\n",
    "        os.mkdir(path)\n",
    "\n",
    "#os.mkdir(path) if not os.path.exists(path)\n",
    "print(\"Directory '% s' created\" % directory)\n",
    "\n",
    "saveDir = path\n",
    "saveDir"
   ]
  },
  {
   "cell_type": "markdown",
   "id": "divine-wells",
   "metadata": {},
   "source": [
    "# Download HPS_Employment"
   ]
  },
  {
   "cell_type": "code",
   "execution_count": 17,
   "id": "seeing-therapy",
   "metadata": {
    "scrolled": true
   },
   "outputs": [
    {
     "name": "stdout",
     "output_type": "stream",
     "text": [
      "28\n"
     ]
    },
    {
     "data": {
      "text/plain": [
       "['https://www.census.gov//data/tables/2021/demo/hhp/hhp28.html',\n",
       " 'https://www.census.gov//data/tables/2021/demo/hhp/hhp27.html',\n",
       " 'https://www.census.gov//data/tables/2021/demo/hhp/hhp26.html',\n",
       " 'https://www.census.gov//data/tables/2021/demo/hhp/hhp25.html',\n",
       " 'https://www.census.gov//data/tables/2021/demo/hhp/hhp24.html',\n",
       " 'https://www.census.gov//data/tables/2021/demo/hhp/hhp23.html',\n",
       " 'https://www.census.gov//data/tables/2021/demo/hhp/hhp22.html',\n",
       " 'https://www.census.gov//data/tables/2020/demo/hhp/hhp21.html',\n",
       " 'https://www.census.gov//data/tables/2020/demo/hhp/hhp20.html',\n",
       " 'https://www.census.gov//data/tables/2020/demo/hhp/hhp19.html',\n",
       " 'https://www.census.gov//data/tables/2020/demo/hhp/hhp18.html',\n",
       " 'https://www.census.gov//data/tables/2020/demo/hhp/hhp17.html',\n",
       " 'https://www.census.gov//data/tables/2020/demo/hhp/hhp16.html',\n",
       " 'https://www.census.gov//data/tables/2020/demo/hhp/hhp15.html',\n",
       " 'https://www.census.gov//data/tables/2020/demo/hhp/hhp14.html',\n",
       " 'https://www.census.gov//data/tables/2020/demo/hhp/hhp13.html',\n",
       " 'https://www.census.gov//data/tables/2020/demo/hhp/hhp12.html',\n",
       " 'https://www.census.gov//data/tables/2020/demo/hhp/hhp11.html',\n",
       " 'https://www.census.gov//data/tables/2020/demo/hhp/hhp10.html',\n",
       " 'https://www.census.gov//data/tables/2020/demo/hhp/hhp9.html',\n",
       " 'https://www.census.gov//data/tables/2020/demo/hhp/hhp8.html',\n",
       " 'https://www.census.gov//data/tables/2020/demo/hhp/hhp7.html',\n",
       " 'https://www.census.gov//data/tables/2020/demo/hhp/hhp6.html',\n",
       " 'https://www.census.gov//data/tables/2020/demo/hhp/hhp5.html',\n",
       " 'https://www.census.gov//data/tables/2020/demo/hhp/hhp4.html',\n",
       " 'https://www.census.gov//data/tables/2020/demo/hhp/hhp3.html',\n",
       " 'https://www.census.gov//data/tables/2020/demo/hhp/hhp2.html',\n",
       " 'https://www.census.gov//data/tables/2020/demo/hhp/hhp1.html']"
      ]
     },
     "execution_count": 17,
     "metadata": {},
     "output_type": "execute_result"
    }
   ],
   "source": [
    "# Sub directories\n",
    "url = 'https://www.census.gov/programs-surveys/household-pulse-survey/data.html'\n",
    "url2 = 'https://www.census.gov/'\n",
    "url_sub = extracturl(url)\n",
    "url_sub = [x for x in url_sub if 'hhp' in x]        \n",
    "\n",
    "# URL format\n",
    "url_sub = [url2+t for t in url_sub]\n",
    "print(len(url_sub))\n",
    "url_sub"
   ]
  },
  {
   "cell_type": "code",
   "execution_count": 25,
   "id": "bright-spine",
   "metadata": {},
   "outputs": [],
   "source": [
    "emp_file=[]\n",
    "\n",
    "for i in url_sub[:28]:\n",
    "    employ = [t for t in extracturl(i) if ('employ1' in t) & ('_se_' not in t)]\n",
    "    emp_file.append('http:'+employ[0])\n",
    "    saveName=[]\n",
    "    for j in emp_file:\n",
    "        saveName.append(os.path.join(saveDir, j.split('/')[-1].strip()))"
   ]
  },
  {
   "cell_type": "code",
   "execution_count": 27,
   "id": "chemical-design",
   "metadata": {
    "scrolled": true
   },
   "outputs": [
    {
     "name": "stdout",
     "output_type": "stream",
     "text": [
      "Downloaded file: C:\\Users\\ck24\\ACE_592\\covid-19-data\\foodsecurity_census\\HPS_data\\Employment\\employ1_week28.xlsx\n",
      "Downloaded file: C:\\Users\\ck24\\ACE_592\\covid-19-data\\foodsecurity_census\\HPS_data\\Employment\\employ1_week27.xlsx\n",
      "Downloaded file: C:\\Users\\ck24\\ACE_592\\covid-19-data\\foodsecurity_census\\HPS_data\\Employment\\employ1_week26.xlsx\n",
      "Downloaded file: C:\\Users\\ck24\\ACE_592\\covid-19-data\\foodsecurity_census\\HPS_data\\Employment\\employ1_week25.xlsx\n",
      "Downloaded file: C:\\Users\\ck24\\ACE_592\\covid-19-data\\foodsecurity_census\\HPS_data\\Employment\\employ1_week24.xlsx\n",
      "Downloaded file: C:\\Users\\ck24\\ACE_592\\covid-19-data\\foodsecurity_census\\HPS_data\\Employment\\employ1_week23.xlsx\n",
      "Downloaded file: C:\\Users\\ck24\\ACE_592\\covid-19-data\\foodsecurity_census\\HPS_data\\Employment\\employ1_week22.xlsx\n",
      "Downloaded file: C:\\Users\\ck24\\ACE_592\\covid-19-data\\foodsecurity_census\\HPS_data\\Employment\\employ1_week21.xlsx\n",
      "Downloaded file: C:\\Users\\ck24\\ACE_592\\covid-19-data\\foodsecurity_census\\HPS_data\\Employment\\employ1_week20.xlsx\n",
      "Downloaded file: C:\\Users\\ck24\\ACE_592\\covid-19-data\\foodsecurity_census\\HPS_data\\Employment\\employ1_week19.xlsx\n",
      "Downloaded file: C:\\Users\\ck24\\ACE_592\\covid-19-data\\foodsecurity_census\\HPS_data\\Employment\\employ1_week18.xlsx\n",
      "Downloaded file: C:\\Users\\ck24\\ACE_592\\covid-19-data\\foodsecurity_census\\HPS_data\\Employment\\employ1_week17.xlsx\n",
      "Downloaded file: C:\\Users\\ck24\\ACE_592\\covid-19-data\\foodsecurity_census\\HPS_data\\Employment\\employ1_week16.xlsx\n",
      "Downloaded file: C:\\Users\\ck24\\ACE_592\\covid-19-data\\foodsecurity_census\\HPS_data\\Employment\\employ1_week15.xlsx\n",
      "Downloaded file: C:\\Users\\ck24\\ACE_592\\covid-19-data\\foodsecurity_census\\HPS_data\\Employment\\employ1_week14.xlsx\n",
      "Downloaded file: C:\\Users\\ck24\\ACE_592\\covid-19-data\\foodsecurity_census\\HPS_data\\Employment\\employ1_week13.xlsx\n",
      "Downloaded file: C:\\Users\\ck24\\ACE_592\\covid-19-data\\foodsecurity_census\\HPS_data\\Employment\\employ1_week12.xlsx\n",
      "Downloaded file: C:\\Users\\ck24\\ACE_592\\covid-19-data\\foodsecurity_census\\HPS_data\\Employment\\employ1_week11.xlsx\n",
      "Downloaded file: C:\\Users\\ck24\\ACE_592\\covid-19-data\\foodsecurity_census\\HPS_data\\Employment\\employ1_week10.xlsx\n",
      "Downloaded file: C:\\Users\\ck24\\ACE_592\\covid-19-data\\foodsecurity_census\\HPS_data\\Employment\\employ1_week9.xlsx\n",
      "Downloaded file: C:\\Users\\ck24\\ACE_592\\covid-19-data\\foodsecurity_census\\HPS_data\\Employment\\employ1_week8.xlsx\n",
      "Downloaded file: C:\\Users\\ck24\\ACE_592\\covid-19-data\\foodsecurity_census\\HPS_data\\Employment\\employ1_week7.xlsx\n",
      "Downloaded file: C:\\Users\\ck24\\ACE_592\\covid-19-data\\foodsecurity_census\\HPS_data\\Employment\\employ1_week6.xlsx\n",
      "Downloaded file: C:\\Users\\ck24\\ACE_592\\covid-19-data\\foodsecurity_census\\HPS_data\\Employment\\employ1_week5.xlsx\n",
      "Downloaded file: C:\\Users\\ck24\\ACE_592\\covid-19-data\\foodsecurity_census\\HPS_data\\Employment\\employ1_week4.xlsx\n",
      "Downloaded file: C:\\Users\\ck24\\ACE_592\\covid-19-data\\foodsecurity_census\\HPS_data\\Employment\\employ1_week3.xlsx\n",
      "Downloaded file: C:\\Users\\ck24\\ACE_592\\covid-19-data\\foodsecurity_census\\HPS_data\\Employment\\employ1_week2.xlsx\n",
      "Downloaded file: C:\\Users\\ck24\\ACE_592\\covid-19-data\\foodsecurity_census\\HPS_data\\Employment\\employ1_week1.xlsx\n"
     ]
    }
   ],
   "source": [
    "# This cell will download every files to 'saveDir'\n",
    "\n",
    "for i,f in enumerate(emp_file):\n",
    "    with requests.get(f.strip()) as response:\n",
    "        if response.status_code != 200:\n",
    "            print(\"cannot download\")\n",
    "        else:\n",
    "            response.raw.decode_content = True\n",
    "            content = response.raw\n",
    "            with open(saveName[i], 'wb') as d:\n",
    "                    d.write(response.content)\n",
    "            print('Downloaded file: {}'.format(saveName[i]))"
   ]
  },
  {
   "cell_type": "markdown",
   "id": "three-gambling",
   "metadata": {},
   "source": [
    "# Cleaning FS CPS data"
   ]
  },
  {
   "cell_type": "code",
   "execution_count": 28,
   "id": "circular-speaker",
   "metadata": {},
   "outputs": [],
   "source": [
    "import os\n",
    "import glob\n",
    "import openpyxl\n",
    "import pandas as pd\n",
    "import numpy as np\n",
    "import pandas as pd"
   ]
  },
  {
   "cell_type": "code",
   "execution_count": 29,
   "id": "gothic-mortgage",
   "metadata": {},
   "outputs": [],
   "source": [
    "emp_list = glob.glob(saveDir+r'\\*.xlsx')"
   ]
  },
  {
   "cell_type": "code",
   "execution_count": 30,
   "id": "resident-swimming",
   "metadata": {
    "scrolled": true
   },
   "outputs": [
    {
     "name": "stdout",
     "output_type": "stream",
     "text": [
      "51\n"
     ]
    },
    {
     "data": {
      "text/plain": [
       "['AL',\n",
       " 'AK',\n",
       " 'AZ',\n",
       " 'AR',\n",
       " 'CA',\n",
       " 'CO',\n",
       " 'CT',\n",
       " 'DE',\n",
       " 'DC',\n",
       " 'FL',\n",
       " 'GA',\n",
       " 'HI',\n",
       " 'ID',\n",
       " 'IL',\n",
       " 'IN',\n",
       " 'IA',\n",
       " 'KS',\n",
       " 'KY',\n",
       " 'LA',\n",
       " 'ME',\n",
       " 'MD',\n",
       " 'MA',\n",
       " 'MI',\n",
       " 'MN',\n",
       " 'MS',\n",
       " 'MO',\n",
       " 'MT',\n",
       " 'NE',\n",
       " 'NV',\n",
       " 'NH',\n",
       " 'NJ',\n",
       " 'NM',\n",
       " 'NY',\n",
       " 'NC',\n",
       " 'ND',\n",
       " 'OH',\n",
       " 'OK',\n",
       " 'OR',\n",
       " 'PA',\n",
       " 'RI',\n",
       " 'SC',\n",
       " 'SD',\n",
       " 'TN',\n",
       " 'TX',\n",
       " 'UT',\n",
       " 'VT',\n",
       " 'VA',\n",
       " 'WA',\n",
       " 'WV',\n",
       " 'WI',\n",
       " 'WY']"
      ]
     },
     "execution_count": 30,
     "metadata": {},
     "output_type": "execute_result"
    }
   ],
   "source": [
    "#extract state name\n",
    "wb = openpyxl.load_workbook(emp_list[0])\n",
    "state_code=wb.sheetnames[1:52]\n",
    "print(len(state_code))\n",
    "state_code"
   ]
  },
  {
   "cell_type": "code",
   "execution_count": 39,
   "id": "utility-gateway",
   "metadata": {},
   "outputs": [],
   "source": [
    "## subset data file by excel structure\n",
    "#from week 1 to 12\n",
    "emplist_type1 = [s for s in emp_list if int(s[-11:-5][4:].replace('k','')) in np.arange(1,13,1).tolist()]\n",
    "#from week 13 to 28\n",
    "emplist_type2 = [s for s in emp_list if int(s[-11:-5][4:].replace('k','')) in np.arange(13,29,1).tolist()]"
   ]
  },
  {
   "cell_type": "code",
   "execution_count": 57,
   "id": "pressed-australia",
   "metadata": {},
   "outputs": [
    {
     "name": "stdout",
     "output_type": "stream",
     "text": [
      "week25\n"
     ]
    },
    {
     "data": {
      "text/plain": [
       "array([0.40983941])"
      ]
     },
     "execution_count": 57,
     "metadata": {},
     "output_type": "execute_result"
    }
   ],
   "source": [
    "df = pd.read_excel(emp_list[17],\n",
    "                  sheet_name = 'AL',\n",
    "                  usecols = \"B:E\",\n",
    "                  engine='openpyxl',\n",
    "                  header=5)[:2].drop(0).rename(columns={'Unnamed: 1':\"total\"})\n",
    "print(emp_list[17][-11:-5].replace('_',''))\n",
    "normalize=df/int(df.total.values)\n",
    "loss=normalize.iloc[:,1:2].sum(axis=1).values\n",
    "loss\n",
    "#foodlist_type2[0]"
   ]
  },
  {
   "cell_type": "code",
   "execution_count": 151,
   "id": "christian-lemon",
   "metadata": {},
   "outputs": [],
   "source": [
    "extraction=[]\n",
    "final=[]\n",
    "\n",
    "#type 1 extraction\n",
    "for sub in emp_list:\n",
    "    for state in state_code:\n",
    "        if sub in emplist_type1: \n",
    "            df = pd.read_excel(sub,\n",
    "                  sheet_name = state,\n",
    "                  usecols = \"B:E\",\n",
    "                  engine='openpyxl',\n",
    "                  header=4)[:2].drop(0).rename(columns={'Unnamed: 1':\"total\"})\n",
    "        else : \n",
    "            df = pd.read_excel(sub,\n",
    "                  sheet_name = state,\n",
    "                  usecols = \"B:E\",\n",
    "                  engine='openpyxl',\n",
    "                  header=5)[:2].drop(0).rename(columns={'Unnamed: 1':\"total\"})\n",
    "        \n",
    "        week = sub[-11:-5].replace('_','')\n",
    "        if len(week) == 5:\n",
    "            week = week[:4]+'0'+week[-1]\n",
    "        \n",
    "        interest = df.iloc[:,1:2].sum(axis=1).values\n",
    "        emp_loss = interest/int(df['total'].values)\n",
    "        \n",
    "        df_final = pd.DataFrame(columns=['emploss_'+week,'state'])#,'week']) \n",
    "        df_final['emploss_'+week]=emp_loss\n",
    "        df_final['state']=[state]\n",
    "        #df_final['week']=[week]\n",
    "        \n",
    "        extraction.append(df_final)\n",
    "final.append(extraction)\n",
    "#slice every 51 items and bind them in a sublist\n",
    "final = [pd.concat(final[0][x:x+51]) for x in range(0, len(final[0]),51)]"
   ]
  },
  {
   "cell_type": "code",
   "execution_count": 150,
   "id": "sustainable-status",
   "metadata": {},
   "outputs": [
    {
     "data": {
      "text/plain": [
       "[   emploss_week18 state\n",
       " 0        0.356847    AL\n",
       " 0        0.473393    AK\n",
       " 0        0.468155    AZ\n",
       " 0        0.460806    AR\n",
       " 0        0.488720    CA\n",
       " 0        0.460748    CO\n",
       " 0        0.465899    CT\n",
       " 0        0.442773    DE\n",
       " 0        0.430144    DC\n",
       " 0        0.493787    FL\n",
       " 0        0.482876    GA\n",
       " 0        0.552865    HI\n",
       " 0        0.424174    ID\n",
       " 0        0.474318    IL\n",
       " 0        0.451210    IN\n",
       " 0        0.422974    IA\n",
       " 0        0.378200    KS\n",
       " 0        0.424840    KY\n",
       " 0        0.509338    LA\n",
       " 0        0.461223    ME\n",
       " 0        0.430047    MD\n",
       " 0        0.466028    MA\n",
       " 0        0.522882    MI\n",
       " 0        0.446423    MN\n",
       " 0        0.482114    MS\n",
       " 0        0.407741    MO\n",
       " 0        0.376290    MT\n",
       " 0        0.334875    NE\n",
       " 0        0.555704    NV\n",
       " 0        0.458390    NH\n",
       " 0        0.494663    NJ\n",
       " 0        0.476842    NM\n",
       " 0        0.496309    NY\n",
       " 0        0.457121    NC\n",
       " 0        0.439774    ND\n",
       " 0        0.440875    OH\n",
       " 0        0.442840    OK\n",
       " 0        0.499671    OR\n",
       " 0        0.458784    PA\n",
       " 0        0.525547    RI\n",
       " 0        0.458093    SC\n",
       " 0        0.361970    SD\n",
       " 0        0.461909    TN\n",
       " 0        0.498803    TX\n",
       " 0        0.413327    UT\n",
       " 0        0.475075    VT\n",
       " 0        0.405700    VA\n",
       " 0        0.461325    WA\n",
       " 0        0.436116    WV\n",
       " 0        0.409432    WI\n",
       " 0        0.448461    WY]"
      ]
     },
     "execution_count": 150,
     "metadata": {},
     "output_type": "execute_result"
    }
   ],
   "source": [
    "extraction=[]\n",
    "final=[]\n",
    "\n",
    "def extraction (data_list, type1, usecols, header1, header2, interest_range,colname)\n",
    "    for sub in data_list:\n",
    "        for state in state_code:\n",
    "            if sub in type1: \n",
    "                df = pd.read_excel(sub,\n",
    "                      sheet_name = state,\n",
    "                      usecols = usecols,\n",
    "                      engine='openpyxl',\n",
    "                      header=header1)[:2].drop(0).rename(columns={'Unnamed: 1':\"total\"})\n",
    "            else : \n",
    "                df = pd.read_excel(sub,\n",
    "                      sheet_name = state,\n",
    "                      usecols = usecols,\n",
    "                      engine='openpyxl',\n",
    "                      header=header2)[:2].drop(0).rename(columns={'Unnamed: 1':\"total\"})\n",
    "\n",
    "            week = sub[-11:-5].replace('_','')\n",
    "            if len(week) == 5:\n",
    "                week = week[:4]+'0'+week[-1]\n",
    "\n",
    "            interest = df.iloc[:,interest_range].sum(axis=1).values\n",
    "            ratio = interest/int(df['total'].values)\n",
    "\n",
    "            df_final = pd.DataFrame(columns=[colname+week,'state'])#,'week']) \n",
    "            df_final[colname+week]=ratio\n",
    "            df_final['state']=[state]\n",
    "            #df_final['week']=[week]\n",
    "\n",
    "            extraction.append(df_final)\n",
    "    final.append(extraction)\n",
    "    #slice every 51 items and bind them in a sublist\n",
    "    final = [pd.concat(final[0][x:x+51]) for x in range(0, len(final[0]),51)]"
   ]
  },
  {
   "cell_type": "code",
   "execution_count": 122,
   "id": "colored-italian",
   "metadata": {},
   "outputs": [
    {
     "data": {
      "text/plain": [
       "['C:\\\\Users\\\\ck24\\\\ACE_592\\\\covid-19-data\\\\foodsecurity_census\\\\HPS_data\\\\Employment\\\\employ1_week16.xlsx',\n",
       " 'C:\\\\Users\\\\ck24\\\\ACE_592\\\\covid-19-data\\\\foodsecurity_census\\\\HPS_data\\\\Employment\\\\employ1_week17.xlsx',\n",
       " 'C:\\\\Users\\\\ck24\\\\ACE_592\\\\covid-19-data\\\\foodsecurity_census\\\\HPS_data\\\\Employment\\\\employ1_week18.xlsx']"
      ]
     },
     "execution_count": 122,
     "metadata": {},
     "output_type": "execute_result"
    }
   ],
   "source": [
    "emp_list[7:10]"
   ]
  },
  {
   "cell_type": "code",
   "execution_count": 120,
   "id": "south-certification",
   "metadata": {},
   "outputs": [
    {
     "data": {
      "text/html": [
       "<div>\n",
       "<style scoped>\n",
       "    .dataframe tbody tr th:only-of-type {\n",
       "        vertical-align: middle;\n",
       "    }\n",
       "\n",
       "    .dataframe tbody tr th {\n",
       "        vertical-align: top;\n",
       "    }\n",
       "\n",
       "    .dataframe thead th {\n",
       "        text-align: right;\n",
       "    }\n",
       "</style>\n",
       "<table border=\"1\" class=\"dataframe\">\n",
       "  <thead>\n",
       "    <tr style=\"text-align: right;\">\n",
       "      <th>state</th>\n",
       "      <th>index</th>\n",
       "      <th>AL</th>\n",
       "      <th>AK</th>\n",
       "      <th>AZ</th>\n",
       "      <th>AR</th>\n",
       "      <th>CA</th>\n",
       "      <th>CO</th>\n",
       "      <th>CT</th>\n",
       "      <th>DE</th>\n",
       "      <th>DC</th>\n",
       "      <th>...</th>\n",
       "      <th>SD</th>\n",
       "      <th>TN</th>\n",
       "      <th>TX</th>\n",
       "      <th>UT</th>\n",
       "      <th>VT</th>\n",
       "      <th>VA</th>\n",
       "      <th>WA</th>\n",
       "      <th>WV</th>\n",
       "      <th>WI</th>\n",
       "      <th>WY</th>\n",
       "    </tr>\n",
       "  </thead>\n",
       "  <tbody>\n",
       "    <tr>\n",
       "      <th>0</th>\n",
       "      <td>emploss_week11</td>\n",
       "      <td>0.435485</td>\n",
       "      <td>0.451154</td>\n",
       "      <td>0.478311</td>\n",
       "      <td>0.454989</td>\n",
       "      <td>0.587224</td>\n",
       "      <td>0.4653</td>\n",
       "      <td>0.505022</td>\n",
       "      <td>0.477676</td>\n",
       "      <td>0.324714</td>\n",
       "      <td>...</td>\n",
       "      <td>0.40448</td>\n",
       "      <td>0.456566</td>\n",
       "      <td>0.498598</td>\n",
       "      <td>0.445451</td>\n",
       "      <td>0.458647</td>\n",
       "      <td>0.418554</td>\n",
       "      <td>0.479753</td>\n",
       "      <td>0.486295</td>\n",
       "      <td>0.464594</td>\n",
       "      <td>0.396807</td>\n",
       "    </tr>\n",
       "    <tr>\n",
       "      <th>1</th>\n",
       "      <td>emploss_week12</td>\n",
       "      <td>0.454397</td>\n",
       "      <td>0.488367</td>\n",
       "      <td>0.507634</td>\n",
       "      <td>0.436267</td>\n",
       "      <td>0.584173</td>\n",
       "      <td>0.472327</td>\n",
       "      <td>0.486533</td>\n",
       "      <td>0.48531</td>\n",
       "      <td>0.372792</td>\n",
       "      <td>...</td>\n",
       "      <td>0.401419</td>\n",
       "      <td>0.449327</td>\n",
       "      <td>0.53307</td>\n",
       "      <td>0.405488</td>\n",
       "      <td>0.478732</td>\n",
       "      <td>0.412857</td>\n",
       "      <td>0.506295</td>\n",
       "      <td>0.452479</td>\n",
       "      <td>0.488244</td>\n",
       "      <td>0.471382</td>\n",
       "    </tr>\n",
       "    <tr>\n",
       "      <th>2</th>\n",
       "      <td>emploss_week13</td>\n",
       "      <td>0.396253</td>\n",
       "      <td>0.440802</td>\n",
       "      <td>0.447769</td>\n",
       "      <td>0.38952</td>\n",
       "      <td>0.532297</td>\n",
       "      <td>0.446559</td>\n",
       "      <td>0.437418</td>\n",
       "      <td>0.390288</td>\n",
       "      <td>0.399604</td>\n",
       "      <td>...</td>\n",
       "      <td>0.313394</td>\n",
       "      <td>0.409182</td>\n",
       "      <td>0.440767</td>\n",
       "      <td>0.360104</td>\n",
       "      <td>0.433354</td>\n",
       "      <td>0.413877</td>\n",
       "      <td>0.438695</td>\n",
       "      <td>0.36924</td>\n",
       "      <td>0.369241</td>\n",
       "      <td>0.366179</td>\n",
       "    </tr>\n",
       "  </tbody>\n",
       "</table>\n",
       "<p>3 rows × 52 columns</p>\n",
       "</div>"
      ],
      "text/plain": [
       "state           index        AL        AK        AZ        AR        CA  \\\n",
       "0      emploss_week11  0.435485  0.451154  0.478311  0.454989  0.587224   \n",
       "1      emploss_week12  0.454397  0.488367  0.507634  0.436267  0.584173   \n",
       "2      emploss_week13  0.396253  0.440802  0.447769   0.38952  0.532297   \n",
       "\n",
       "state        CO        CT        DE        DC  ...        SD        TN  \\\n",
       "0        0.4653  0.505022  0.477676  0.324714  ...   0.40448  0.456566   \n",
       "1      0.472327  0.486533   0.48531  0.372792  ...  0.401419  0.449327   \n",
       "2      0.446559  0.437418  0.390288  0.399604  ...  0.313394  0.409182   \n",
       "\n",
       "state        TX        UT        VT        VA        WA        WV        WI  \\\n",
       "0      0.498598  0.445451  0.458647  0.418554  0.479753  0.486295  0.464594   \n",
       "1       0.53307  0.405488  0.478732  0.412857  0.506295  0.452479  0.488244   \n",
       "2      0.440767  0.360104  0.433354  0.413877  0.438695   0.36924  0.369241   \n",
       "\n",
       "state        WY  \n",
       "0      0.396807  \n",
       "1      0.471382  \n",
       "2      0.366179  \n",
       "\n",
       "[3 rows x 52 columns]"
      ]
     },
     "execution_count": 120,
     "metadata": {},
     "output_type": "execute_result"
    }
   ],
   "source": [
    "## Merge data\n",
    "from functools import reduce\n",
    "fi_final_df=reduce(lambda x, y: pd.merge(x, y, on='state'), final)\n",
    "\n",
    "#change header and wide to long\n",
    "test = fi_final_df.T\n",
    "header= fi_final_df.T.iloc[1]\n",
    "test.columns = header\n",
    "test = test.drop(test.index[1])\n",
    "\n",
    "test.reset_index().sort_values(by = ['index'], ascending=True)\n",
    "#subset_week = [x for x in fi_final_df if not x.startswith('week')]\n",
    "#fi_final_df[subset_week]"
   ]
  },
  {
   "cell_type": "code",
   "execution_count": null,
   "id": "alpine-extent",
   "metadata": {},
   "outputs": [],
   "source": []
  }
 ],
 "metadata": {
  "kernelspec": {
   "display_name": "Python 3",
   "language": "python",
   "name": "python3"
  },
  "language_info": {
   "codemirror_mode": {
    "name": "ipython",
    "version": 3
   },
   "file_extension": ".py",
   "mimetype": "text/x-python",
   "name": "python",
   "nbconvert_exporter": "python",
   "pygments_lexer": "ipython3",
   "version": "3.8.5"
  }
 },
 "nbformat": 4,
 "nbformat_minor": 5
}
